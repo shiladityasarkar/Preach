{
 "cells": [
  {
   "cell_type": "code",
   "execution_count": 1,
   "id": "3be9edfc-7e17-4c00-b864-7f6f90bcdb81",
   "metadata": {},
   "outputs": [
    {
     "name": "stderr",
     "output_type": "stream",
     "text": [
      "Intel(R) Extension for Scikit-learn* enabled (https://github.com/intel/scikit-learn-intelex)\n"
     ]
    }
   ],
   "source": [
    "import emojis\n",
    "import nltk\n",
    "import string\n",
    "from nltk.corpus import stopwords\n",
    "from gensim import corpora, models\n",
    "from nltk.tokenize import word_tokenize\n",
    "from nltk.stem import WordNetLemmatizer\n",
    "from gensim.models import CoherenceModel\n",
    "from wordcloud import WordCloud"
   ]
  },
  {
   "cell_type": "code",
   "execution_count": 2,
   "id": "95e5a655-2b61-41cd-99b4-0b93e45c14e4",
   "metadata": {},
   "outputs": [
    {
     "name": "stderr",
     "output_type": "stream",
     "text": [
      "[nltk_data] Downloading package stopwords to\n",
      "[nltk_data]     /home/u217837/nltk_data...\n",
      "[nltk_data]   Package stopwords is already up-to-date!\n",
      "[nltk_data] Downloading package punkt to /home/u217837/nltk_data...\n",
      "[nltk_data]   Package punkt is already up-to-date!\n",
      "[nltk_data] Downloading package wordnet to /home/u217837/nltk_data...\n",
      "[nltk_data]   Package wordnet is already up-to-date!\n"
     ]
    },
    {
     "data": {
      "text/plain": [
       "True"
      ]
     },
     "execution_count": 2,
     "metadata": {},
     "output_type": "execute_result"
    }
   ],
   "source": [
    "nltk.download('stopwords')\n",
    "nltk.download('punkt')\n",
    "nltk.download('wordnet')"
   ]
  },
  {
   "cell_type": "code",
   "execution_count": 3,
   "id": "167b44d1-6dec-4358-8bbf-a6ba1297cebd",
   "metadata": {},
   "outputs": [],
   "source": [
    "def preprocess_text1(text):#for keyword generation\n",
    "    # Remove emojis\n",
    "    text = emojis.decode(text)\n",
    "    \n",
    "    # Tokenize the text into words\n",
    "    words = word_tokenize(text)\n",
    "    \n",
    "    # Remove punctuation, stopwords, and non-alphabetic words\n",
    "    stop_words = set(stopwords.words('english'))\n",
    "    words = [word for word in words if word.lower() not in stop_words and word not in string.punctuation and word.isalpha()]\n",
    "    \n",
    "    # Lemmatize words\n",
    "    lemmatizer = WordNetLemmatizer()\n",
    "    words = [lemmatizer.lemmatize(word) for word in words]\n",
    "    \n",
    "    return words\n"
   ]
  },
  {
   "cell_type": "code",
   "execution_count": 4,
   "id": "af8aad86-0b6d-4d27-a804-dd9abb017da2",
   "metadata": {},
   "outputs": [],
   "source": [
    "from sklearn.feature_extraction.text import TfidfVectorizer\n",
    "\n",
    "def generate_keywords_standard(summary, num_keywords=6):\n",
    "    print(\"Generating Keywords...\")\n",
    "\n",
    "    # Tokenize the summary into words\n",
    "    words = preprocess_text1(summary)\n",
    "    # Join the preprocessed words back into a string\n",
    "    processed_text = \" \".join(words)\n",
    "    \n",
    "    # Create TF-IDF vectorizer\n",
    "    vectorizer = TfidfVectorizer()\n",
    "    \n",
    "    # Fit the vectorizer on the summary\n",
    "    vectorizer.fit([processed_text])\n",
    "    \n",
    "    # Transform the summary into TF-IDF matrix\n",
    "    tfidf_matrix = vectorizer.transform([processed_text])\n",
    "    \n",
    "    # Extract feature names (words)\n",
    "    feature_names = vectorizer.get_feature_names_out()\n",
    "    \n",
    "    # Compute TF-IDF scores for each word\n",
    "    scores = tfidf_matrix.toarray().flatten()\n",
    "    \n",
    "    # Sort the words based on TF-IDF scores\n",
    "    keywords = [feature_names[i] for i in scores.argsort()[::-1][:num_keywords]]\n",
    "    \n",
    "    return keywords\n"
   ]
  },
  {
   "cell_type": "code",
   "execution_count": 5,
   "id": "1178f41f-8a98-4975-a547-8c6bfb675522",
   "metadata": {},
   "outputs": [
    {
     "name": "stdout",
     "output_type": "stream",
     "text": [
      "Generating Keywords...\n",
      "Time taken: 1.0482256412506104 seconds\n",
      "CPU usage: 3.1 %\n",
      "Memory usage: 12.9 %\n",
      "Keywords: ['sed', 'non', 'enim', 'diam', 'adipiscing', 'pellentesque']\n"
     ]
    }
   ],
   "source": [
    "import time\n",
    "import psutil\n",
    "\n",
    "def main():\n",
    "    # Sample big paragraph\n",
    "    paragraph = \"\"\"\n",
    "    Lorem ipsum dolor sit amet, consectetur adipiscing elit. Sed non risus. Suspendisse lectus tortor, dignissim sit amet, adipiscing nec, ultricies sed, dolor. Cras elementum ultrices diam. Maecenas ligula massa, varius a, semper congue, euismod non, mi. Proin porttitor, orci nec nonummy molestie, enim est eleifend mi, non fermentum diam nisl sit amet erat. Duis semper. Duis arcu massa, scelerisque vitae, consequat in, pretium a, enim. Pellentesque congue. Ut in risus volutpat libero pharetra tempor. Cras vestibulum bibendum augue. Praesent egestas leo in pede. Praesent blandit odio eu enim. Pellentesque sed dui ut augue blandit sodales. Vestibulum ante ipsum primis in faucibus orci luctus et ultrices posuere cubilia Curae; Aliquam nibh. Mauris ac mauris sed pede pellentesque fermentum. Maecenas adipiscing ante non diam sodales...\n",
    "    \"\"\"\n",
    "\n",
    "    # Start measuring time\n",
    "    start_time = time.time()\n",
    "\n",
    "    # Generate keywords\n",
    "    keywords = generate_keywords_standard(paragraph)\n",
    "\n",
    "    # End measuring time\n",
    "    end_time = time.time()\n",
    "\n",
    "    # Calculate the time taken\n",
    "    time_taken = end_time - start_time\n",
    "\n",
    "    # Print time taken\n",
    "    print(\"Time taken:\", time_taken, \"seconds\")\n",
    "\n",
    "    # Print CPU usage\n",
    "    cpu_usage = psutil.cpu_percent()\n",
    "    print(\"CPU usage:\", cpu_usage, \"%\")\n",
    "\n",
    "    # Print memory usage\n",
    "    memory_usage = psutil.virtual_memory().percent\n",
    "    print(\"Memory usage:\", memory_usage, \"%\")\n",
    "\n",
    "    # Display keywords\n",
    "    print(\"Keywords:\", keywords)\n",
    "\n",
    "if __name__ == \"__main__\":\n",
    "    main()\n"
   ]
  }
 ],
 "metadata": {
  "kernelspec": {
   "display_name": "Python 3 (Intel® oneAPI 2023.2)",
   "language": "python",
   "name": "c009-intel_distribution_of_python_3_oneapi-beta05-python"
  },
  "language_info": {
   "codemirror_mode": {
    "name": "ipython",
    "version": 3
   },
   "file_extension": ".py",
   "mimetype": "text/x-python",
   "name": "python",
   "nbconvert_exporter": "python",
   "pygments_lexer": "ipython3",
   "version": "3.9.16"
  }
 },
 "nbformat": 4,
 "nbformat_minor": 5
}
