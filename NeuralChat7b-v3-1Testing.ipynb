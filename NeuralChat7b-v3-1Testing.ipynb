{
 "cells": [
  {
   "cell_type": "code",
   "execution_count": 1,
   "id": "da2de5cc-c972-4bf0-87f3-04f3d3f05564",
   "metadata": {},
   "outputs": [],
   "source": [
    "import transformers"
   ]
  },
  {
   "cell_type": "code",
   "execution_count": null,
   "id": "fe135736-5b50-47c1-9fec-1d4263fe1c04",
   "metadata": {},
   "outputs": [
    {
     "data": {
      "application/json": {
       "ascii": false,
       "bar_format": null,
       "colour": null,
       "elapsed": 0.00787496566772461,
       "initial": 0,
       "n": 0,
       "ncols": null,
       "nrows": null,
       "postfix": null,
       "prefix": "Loading checkpoint shards",
       "rate": null,
       "total": 2,
       "unit": "it",
       "unit_divisor": 1000,
       "unit_scale": false
      },
      "application/vnd.jupyter.widget-view+json": {
       "model_id": "a9e94ba9750145078b221e2947ea9112",
       "version_major": 2,
       "version_minor": 0
      },
      "text/plain": [
       "Loading checkpoint shards:   0%|          | 0/2 [00:00<?, ?it/s]"
      ]
     },
     "metadata": {},
     "output_type": "display_data"
    }
   ],
   "source": [
    "model_name = 'Intel/neural-chat-7b-v3-1'\n",
    "model = transformers.AutoModelForCausalLM.from_pretrained(model_name)\n",
    "tokenizer = transformers.AutoTokenizer.from_pretrained(model_name)\n"
   ]
  },
  {
   "cell_type": "code",
   "execution_count": null,
   "id": "2dd3331e-c9ea-44da-a01b-e93b56a45501",
   "metadata": {},
   "outputs": [],
   "source": [
    "\n",
    "def generate_response(system_input, user_input):\n",
    "\n",
    "    # Format the input using the provided template\n",
    "    prompt = f\"### System:\\n{system_input}\\n### User:\\n{user_input}\\n### Assistant:\\n\"\n",
    "\n",
    "    # Tokenize and encode the prompt\n",
    "    inputs = tokenizer.encode(prompt, return_tensors=\"pt\", add_special_tokens=False)\n",
    "\n",
    "    # Generate a response\n",
    "    outputs = model.generate(inputs, max_length=1500, num_return_sequences=1)\n",
    "    response = tokenizer.decode(outputs[0], skip_special_tokens=True)\n",
    "\n",
    "    # Extract only the assistant's response\n",
    "    return response.split(\"### Assistant:\\n\")[-1]\n",
    "\n"
   ]
  },
  {
   "cell_type": "code",
   "execution_count": null,
   "id": "8267c914-17f6-4f80-8c23-318733201d2f",
   "metadata": {},
   "outputs": [],
   "source": [
    "country=\"The sun hung low in the sky, casting long shadows across the deserted street. A gentle breeze rustled through the trees, carrying with it the scent of freshly cut grass. In the distance, the sound of children playing echoed faintly, a reminder of the life that once filled these quiet suburban streets.As I walked along the sidewalk, my thoughts drifted back to happier times. Memories of laughter and love filled my mind, a bittersweet reminder of all that had been lost. I passed by familiar houses, their windows boarded up and their yards overgrown with weeds. It was hard to believe that this had once been a thriving community, a place where families had gathered and friendships had blossomed.But now, it was nothing more than a ghost town, a shadow of its former self. The economic downturn had hit hard, driving businesses away and forcing families to flee in search of greener pastures. Those who remained did so out of necessity, clinging to the hope that things would eventually get better.I continued on my way, lost in my thoughts as I wandered through the deserted streets. The silence was deafening, broken only by the occasional chirp of a bird or the distant rumble of traffic. It was a stark contrast to the vibrant energy that had once filled these streets, a reminder of just how much had been lost.As the sun began to set, casting a golden glow over the landscape, I finally reached the edge of town. Looking back one last time, I felt a pang of sadness wash over me. This place held so many memories, both good and bad, and it was hard to say goodbye.But as I turned and walked away, I knew that it was time to move on. The future was uncertain, but I was determined to face it head-on, with hope in my heart and courage in my step. And as I disappeared into the fading light, I knew that wherever life took me next, I would carry a piece of this town with me always.\""
   ]
  },
  {
   "cell_type": "code",
   "execution_count": null,
   "id": "cf9e131a-1355-4644-af65-2cf7abcdb393",
   "metadata": {},
   "outputs": [],
   "source": [
    "# Example usage\n",
    "\n",
    "system_input = \"You are a powerpoint content assistant. Your mission is to help users get a structured content for 7 slides based on the document submitted. The first slide should contain important keywords.The second slide should contain table of contents. This should be followed by 5 slides of content. You have to generate the content in 5 slides with proper headings and subheadings. Also generate additional content based on keywords relevant to the document as you deem fit\"\n",
    "question = f\"Can you generate a structured powerpoint content with title, table of contents, index, and additional inputs as you seem fit based on the following document: {country}?\"\n",
    "response = generate_response(system_input, question)\n",
    "print(response)"
   ]
  }
 ],
 "metadata": {
  "kernelspec": {
   "display_name": "Python 3 (Intel® oneAPI 2023.2)",
   "language": "python",
   "name": "c009-intel_distribution_of_python_3_oneapi-beta05-python"
  },
  "language_info": {
   "codemirror_mode": {
    "name": "ipython",
    "version": 3
   },
   "file_extension": ".py",
   "mimetype": "text/x-python",
   "name": "python",
   "nbconvert_exporter": "python",
   "pygments_lexer": "ipython3",
   "version": "3.9.16"
  }
 },
 "nbformat": 4,
 "nbformat_minor": 5
}
