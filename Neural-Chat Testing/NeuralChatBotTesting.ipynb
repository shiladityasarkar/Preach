{
 "cells": [
  {
   "cell_type": "code",
   "execution_count": 1,
   "id": "522265ac-9a5b-43a5-8c4a-535768e2ebaf",
   "metadata": {},
   "outputs": [
    {
     "name": "stderr",
     "output_type": "stream",
     "text": [
      "/home/u217837/.local/lib/python3.9/site-packages/torchvision/io/image.py:13: UserWarning: Failed to load image Python extension: ''If you don't plan on using image functionality from `torchvision.io`, you can ignore this warning. Otherwise, there might be something wrong with your environment. Did you have `libjpeg` or `libpng` installed before building `torchvision` from source?\n",
      "  warn(\n",
      "Intel(R) Extension for Scikit-learn* enabled (https://github.com/intel/scikit-learn-intelex)\n",
      "2024-03-22 19:42:40,529 - datasets - INFO - PyTorch version 2.2.0 available.\n",
      "2024-03-22 19:42:40,553 - datasets - INFO - TensorFlow version 2.16.1 available.\n",
      "/home/u217837/.local/lib/python3.9/site-packages/transformers/deepspeed.py:23: FutureWarning: transformers.deepspeed module is deprecated and will be removed in a future version. Please import deepspeed modules directly from transformers.integrations\n",
      "  warnings.warn(\n"
     ]
    },
    {
     "name": "stdout",
     "output_type": "stream",
     "text": [
      "Loading model Intel/neural-chat-7b-v3-1\n"
     ]
    },
    {
     "data": {
      "application/json": {
       "ascii": false,
       "bar_format": null,
       "colour": null,
       "elapsed": 0.007493019104003906,
       "initial": 0,
       "n": 0,
       "ncols": null,
       "nrows": null,
       "postfix": null,
       "prefix": "Loading checkpoint shards",
       "rate": null,
       "total": 2,
       "unit": "it",
       "unit_divisor": 1000,
       "unit_scale": false
      },
      "application/vnd.jupyter.widget-view+json": {
       "model_id": "741728af0e63439c8a67e06b02b7197e",
       "version_major": 2,
       "version_minor": 0
      },
      "text/plain": [
       "Loading checkpoint shards:   0%|          | 0/2 [00:00<?, ?it/s]"
      ]
     },
     "metadata": {},
     "output_type": "display_data"
    },
    {
     "name": "stderr",
     "output_type": "stream",
     "text": [
      "/home/u217837/.local/lib/python3.9/site-packages/intel_extension_for_pytorch/frontend.py:462: UserWarning: Conv BatchNorm folding failed during the optimize process.\n",
      "  warnings.warn(\n",
      "/home/u217837/.local/lib/python3.9/site-packages/intel_extension_for_pytorch/frontend.py:469: UserWarning: Linear BatchNorm folding failed during the optimize process.\n",
      "  warnings.warn(\n",
      "2024-03-22 19:42:50,945 - root - INFO - Model loaded.\n"
     ]
    }
   ],
   "source": [
    "import pandas as pd\n",
    "from intel_extension_for_transformers.neural_chat import build_chatbot\n",
    "chatbot = build_chatbot()"
   ]
  },
  {
   "cell_type": "code",
   "execution_count": 2,
   "id": "68527e88-06d9-4958-9e96-c8d460523ba2",
   "metadata": {},
   "outputs": [],
   "source": [
    "country=\"The sun hung low in the sky, casting long shadows across the deserted street. A gentle breeze rustled through the trees, carrying with it the scent of freshly cut grass. In the distance, the sound of children playing echoed faintly, a reminder of the life that once filled these quiet suburban streets.As I walked along the sidewalk, my thoughts drifted back to happier times. Memories of laughter and love filled my mind, a bittersweet reminder of all that had been lost. I passed by familiar houses, their windows boarded up and their yards overgrown with weeds. It was hard to believe that this had once been a thriving community, a place where families had gathered and friendships had blossomed.But now, it was nothing more than a ghost town, a shadow of its former self. The economic downturn had hit hard, driving businesses away and forcing families to flee in search of greener pastures. Those who remained did so out of necessity, clinging to the hope that things would eventually get better.I continued on my way, lost in my thoughts as I wandered through the deserted streets. The silence was deafening, broken only by the occasional chirp of a bird or the distant rumble of traffic. It was a stark contrast to the vibrant energy that had once filled these streets, a reminder of just how much had been lost.As the sun began to set, casting a golden glow over the landscape, I finally reached the edge of town. Looking back one last time, I felt a pang of sadness wash over me. This place held so many memories, both good and bad, and it was hard to say goodbye.But as I turned and walked away, I knew that it was time to move on. The future was uncertain, but I was determined to face it head-on, with hope in my heart and courage in my step. And as I disappeared into the fading light, I knew that wherever life took me next, I would carry a piece of this town with me always.\""
   ]
  },
  {
   "cell_type": "code",
   "execution_count": null,
   "id": "8f12ff01-7002-426c-b34f-0472b0b362db",
   "metadata": {},
   "outputs": [],
   "source": [
    "question = f\"Can you generate a 200 word summary for the following paragraph: {country}?\"\n",
    "response = chatbot.predict(question)\n",
    "print(response)"
   ]
  },
  {
   "cell_type": "code",
   "execution_count": null,
   "id": "8007d3ad-7a6c-44e4-b91a-56cf5b99ab86",
   "metadata": {},
   "outputs": [],
   "source": [
    "question = f\"Can you generate a structured content for my powerpoint with 5 slides based on the following: {country} with additional content input as you deem fit?\"\n",
    "response = chatbot.predict(question)\n",
    "print(response)"
   ]
  }
 ],
 "metadata": {
  "kernelspec": {
   "display_name": "Python 3 (Intel® oneAPI 2023.2)",
   "language": "python",
   "name": "c009-intel_distribution_of_python_3_oneapi-beta05-python"
  },
  "language_info": {
   "codemirror_mode": {
    "name": "ipython",
    "version": 3
   },
   "file_extension": ".py",
   "mimetype": "text/x-python",
   "name": "python",
   "nbconvert_exporter": "python",
   "pygments_lexer": "ipython3",
   "version": "3.9.16"
  }
 },
 "nbformat": 4,
 "nbformat_minor": 5
}
